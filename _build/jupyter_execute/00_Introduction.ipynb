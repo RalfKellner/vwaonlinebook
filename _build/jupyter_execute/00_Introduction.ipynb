{
 "cells": [
  {
   "cell_type": "markdown",
   "metadata": {},
   "source": [
    "# Einführung\n",
    "\n",
    "Herzlich Willkommen zum Kurs Datenanalyse und Datenmanagement. Durch die fortschreitende Digitalisierung ist in den letzten Jahrzehnten eine große Menge an verfügbaren Daten zu Unternehmen, Produkten und Individuen entstanden. Gleichzeitig erhöhen sich Speicher- und Rechenkapazitäten von IT-Systemen. Bedingt durch diese Entwicklungen haben sich Methoden der Datenanalyse stetig weiter entwickelt und erlauben automatisierte und komplexe Analysen von Daten. Ziel der Datenanalyse ist es durch diese Analysen Erkenntnisse zu gewinnen, die im besten Fall neue Werte generieren. Mit den Inhalten dieses Kurses sollen Sie Einblicke erhalten, welche Aspekte für die moderne Datenanalyse wichtig sind und wie sie grundlegend funktioniert. Genauer sind folgende Inhalte Bestandteil des Kurses:\n",
    "\n",
    "* Datentypen, Datenbeschaffung und Datenaufbereitung\n",
    "* Deskriptive und graphische Analyse von Daten\n",
    "* Regressionsmodelle\n",
    "* Modelevaluation \n",
    "* Dimensionsreduktion\n",
    "* Clustering\n",
    "\n",
    "Im Kurs werden wir gemäß dem Motto \"learning by doing\" arbeiten und selbstständig Daten auswerten. Die Unterlagen zum Kurs setzen sich zusammen aus:\n",
    "\n",
    "* diesem Online-Buch zum Kurs \n",
    "* Digitalen Arbeitsblättern \n",
    "* Videos zum Buch und den Arbeitsblättern\n",
    "\n",
    "Das Buch lesen Sie bereits und entsprechend haben Sie den Zugang gefunden. Die Notebooks sind mit Hilfe von Links wie [diesen](https://colab.research.google.com/drive/10xyW8bDVP0QBF7TlNzXFlj6C6DeN-Lvz?usp=drive_link) zugänglich. Der Kurs beginnt zunächt mit einer kleinen Pythoneinführung. Python ist eine der beliebtesten Programmiersprachen weltweit und ist insbesondere für die Datenanalyse hilfreich, da der Zugang zu den modernsten Datenanalysetechiken und Methoden durch Python ermöglicht wird. Es geht nicht darum, dass Sie die Programmierung mittels Python vollständig im Rahmen des Kurses erlernen sollen. Vielmehr ist Python ein Hilfsmittel für die Datenanalyse. Im Kurs geht es für Sie vorrangig darum, den Output der programmierten Zellen zu verstehen und vor allem passend zu interpretieren. Dennoch müssen Sie gegen Ende des Kurses in der Lage sein, Codebeispiele für eigene Analysen entsprechend anzupassen und auswerten zu können. Neben der Einführung in Python, werden im Kurs grundlegende Methoden der Datenanalysse durchgearbeitet. Hierbei beginnen wir mit der deskriptiven Analyse und fahren anschließend mit der Analyse einzelner Zielvariablen fort. Im Anschluss daran gehen wir zu den Techniken der Dimensionsreduktion und des Clustering über, welche den Fokus aus das Zusammenspiel aller Daten richten. Zu allen Inhalten finden Sie Videos und Beispiele in digitalen Arbeitsblättern (Notebooks). Die Notebooks sind als Übung für Sie zu verstehen und Sie sollten versuchen diese mit Hilfe der Informationen aus diesem Buch und den Videos selbstständig zu bearbeiten. Im Anschluss daran können Sie Ihre Lösung mit den Musterlösungen der Arbeitblätter abgleichen. \n",
    "\n",
    "Dieses Vorgehen dient als Vorbereitung auf die Prüfung des Kurses. Innerhalb der Prüfung werden Sie den Output bereits generierter Analysen interpretieren, teilweise werden Sie eigenständige Analysen durchführen und auf inhaltliche Fragen zum Kurs eingehen. Viel Erfolg!"
   ]
  },
  {
   "cell_type": "markdown",
   "metadata": {},
   "source": [
    "# Literatur zum Buch\n",
    "\n",
    "Sollten Sie während dem Kurs das dargestellte Wissen weiter vertiefen wollen, kann ich insbesondere die folgenden zwei Bücher als Begleitlektüre empfehlen:\n",
    "\n",
    "* James, G., Witten, D., Hastie, T., Tibshirani, R., Taylor, J. (2023): An Introduction to Statistical Learning with Applications in Python, Springer Verlag.\n",
    "* Ruppert, D., Matteson, D.S. (2015): Statistics and Data Analysis for Financial Engineering with R examples, Springer Verlag."
   ]
  }
 ],
 "metadata": {
  "kernelspec": {
   "display_name": "vwa_kurs",
   "language": "python",
   "name": "vwa_kurs"
  },
  "language_info": {
   "codemirror_mode": {
    "name": "ipython",
    "version": 3
   },
   "file_extension": ".py",
   "mimetype": "text/x-python",
   "name": "python",
   "nbconvert_exporter": "python",
   "pygments_lexer": "ipython3",
   "version": "3.10.10"
  }
 },
 "nbformat": 4,
 "nbformat_minor": 2
}