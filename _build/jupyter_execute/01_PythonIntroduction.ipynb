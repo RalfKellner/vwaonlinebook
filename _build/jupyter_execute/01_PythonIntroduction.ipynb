{
 "cells": [
  {
   "cell_type": "markdown",
   "metadata": {},
   "source": [
    "# Einführung in Python\n",
    "\n",
    "Python ist eine interpretierte Programmiersprache. Dies bedeutet, dass der vom Mensch geschriebene Code durch den Interpreter so übersetzt wird, dass der Computer die Anweisungen des Menschen versteht. Der Python Interpreter kann auf der offiziellen [Homepage](https://www.python.org/) kostenfrei herunter geladen werden. Um angenehm und effizient mit Python zu arbeiten empfiehlt es sich jedoch Python zusammen mit einer Entwicklungsumbebung zu installieren. Beliebte Beispiele sind [Anaconda](https://www.anaconda.com/), [VS Code](https://code.visualstudio.com/) oder [Pycharm](https://www.jetbrains.com/de-de/pycharm/). Sie müssen jedoch keine dieser Optionen installieren, da wir mit Hilfe von Notebooks arbeiten werden, die direkt im Google Drive geöffnet und ausgeführt werden können. Die einzige Voraussetzung ist ein Google Konto. Sollten Sie über kein Google Konto verfügen und auch kein Konto erstellen wollen, kontaktieren Sie mich bitte per [Email](mailto::ralf.kellner@uni-passau.de).\n",
    "\n",
    "Es folgt eine Einführung in Python, die Ihnen helfen sollte, Codebeispiele aus dem Kurs besser nachvollziehen zu können. Ziel gegen Ende des Kurses sollte zudem sein, dass Sie bestehende Code-Beispiele für eigene Analysen anpassen und auswerten können. Ich empfehle Ihnen daher von Beginn an, aktiv beim Erlernen der Inhalte teilzunehmen. Dies gelingt am besten, wenn Sie parallel zu diesen Unterlagen ein leeres Colab Notebook auf Ihrem Google Drive öffnen und die Codebeispiele reproduzieren. Im besten Fall experimentieren Sie ein wenig mit den Beispielen durch leichte Veränderungen und überprüfen Sie für sich, ob der Output dem entspricht, was Sie erwarten. Um eine programmierbare Zelle auszuführen, klicken Sie in die Zelle und führen den Code mit Klick auf das Play-Symbol aus. Alternativ können Sie auch in die Zelle klicken und auf Ihrer Tastatur Controll+Enter drücken. Hierbei wird der gesamte Code in der Zelle ausgeführt. Lediglich Zeilen denen das #-Symbol vorausgeht werden vom Interpreter ignoriert, da es sich hierbei um einen Kommentar handelt."
   ]
  },
  {
   "cell_type": "markdown",
   "metadata": {},
   "source": [
    "## Python als Taschenrechner\n",
    "\n",
    "In seiner einfachsten Form kann Python wie ein Taschenrechner verwendet werden. Die elementaren mathematischen Funktionen sind:\n",
    "\n",
    "* \\+ für die Addition\n",
    "* \\- für die Subtraktion\n",
    "* \\* für die Multiplikation\n",
    "* \\\\ für die Division\n",
    "* \\** Für die Exponentialrechnung"
   ]
  },
  {
   "cell_type": "markdown",
   "metadata": {},
   "source": [
    "Addition"
   ]
  },
  {
   "cell_type": "code",
   "execution_count": 1,
   "metadata": {},
   "outputs": [
    {
     "name": "stdout",
     "output_type": "stream",
     "text": [
      "Addition:\n",
      "4\n",
      "Subraktion:\n",
      "21\n",
      "Multiplikation:\n",
      "4\n",
      "Division:\n",
      "2.5\n",
      "Exponentialrechnung:\n",
      "8\n"
     ]
    }
   ],
   "source": [
    "# Diese Zeile ist ein Kommentar und wird vom Interpreter ignoriert. Kommentare sind wichtige Werkzeuge um Code nachvollziehbar zu machen.\n",
    "\n",
    "print(\"Addition:\")\n",
    "print(2 + 2)\n",
    "\n",
    "print(\"Subraktion:\")\n",
    "print(42 - 21)\n",
    "\n",
    "print(\"Multiplikation:\")\n",
    "print(2 * 2)\n",
    "\n",
    "print(\"Division:\")\n",
    "print(5 / 2)\n",
    "\n",
    "print(\"Exponentialrechnung:\")\n",
    "print(2**3)\n"
   ]
  },
  {
   "cell_type": "markdown",
   "metadata": {},
   "source": [
    "Weitere Rechenoperationen sind:\n",
    "\n",
    "* \\\\\\ für die Floor-Division\n",
    "* \\% für den Modulus\n",
    "\n",
    "Zudem gelten natürlich die gängigen Regeln der Mathematik wie die Kommutativ-, Assoziativ- und Distributivgesetze.\n"
   ]
  },
  {
   "cell_type": "markdown",
   "metadata": {},
   "source": [
    "## Funktionen in Python\n",
    "\n",
    "Wie bei gängigen Taschenrechner existieren für Python \"build-in\" Funktionen. Beispiel hierfür sind der Minimum oder der Maximum Operator oder die Betragsfunktion. Funktionsnamen werden immer klein geschrieben. Die Argumente der Funktion werden in eine Klammer nach dem Funktionsnamen eingegben."
   ]
  },
  {
   "cell_type": "code",
   "execution_count": 2,
   "metadata": {},
   "outputs": [
    {
     "name": "stdout",
     "output_type": "stream",
     "text": [
      "Das Maximum aus den Zahlen 2, 4, 5 ist:\n",
      "5\n",
      "Das Minimum aus den Zahlen -1, 2, 4 ist\n",
      "-1\n",
      "Der absoulte Wert der Zahl -2 ist:\n",
      "2\n"
     ]
    }
   ],
   "source": [
    "print(\"Das Maximum aus den Zahlen 2, 4, 5 ist:\")\n",
    "print(max(2, 4, 5))\n",
    "\n",
    "print(\"Das Minimum aus den Zahlen -1, 2, 4 ist\")\n",
    "print(min(-1, 2, 4))\n",
    "\n",
    "print(\"Der absoulte Wert der Zahl -2 ist:\")\n",
    "print(abs(-2))"
   ]
  },
  {
   "cell_type": "markdown",
   "metadata": {},
   "source": [
    "### Hilfe\n",
    "\n",
    "Um Informationen zum Umgang mit Funktionen zu erhalten, existiert die \"help\" Funktion. Lassen Sie uns mit Hilfe der help-Funktion etwas über die print-Funktion heraus finden."
   ]
  },
  {
   "cell_type": "code",
   "execution_count": 3,
   "metadata": {},
   "outputs": [
    {
     "name": "stdout",
     "output_type": "stream",
     "text": [
      "Help on built-in function print in module builtins:\n",
      "\n",
      "print(...)\n",
      "    print(value, ..., sep=' ', end='\\n', file=sys.stdout, flush=False)\n",
      "    \n",
      "    Prints the values to a stream, or to sys.stdout by default.\n",
      "    Optional keyword arguments:\n",
      "    file:  a file-like object (stream); defaults to the current sys.stdout.\n",
      "    sep:   string inserted between values, default a space.\n",
      "    end:   string appended after the last value, default a newline.\n",
      "    flush: whether to forcibly flush the stream.\n",
      "\n"
     ]
    }
   ],
   "source": [
    "help(print)"
   ]
  },
  {
   "cell_type": "markdown",
   "metadata": {},
   "source": [
    "## Datentypen in Python\n",
    "\n",
    "Wie Sie im obigen Output erkennen können, ist die Ausgabe beim Ergebnis der Division anders als bei den restlichen Berechnungen. Anstelle der ganzen Zahl, steht eine Zahl mit einem Komma (im englischsprachigen Raum entspricht die Verwendung des Punktes unserer Verwendung des Kommas und anders herum). Ganze Zahlen sind vom Typ Integer, mit Komma getrennte Zahlen sind vom Typ Float, Text wird in der Regel durch den String Datentyp repräsentiert. Zudem existiert noch der Boolean Datentyp, der entweder den Wert True oder False annehmen kann."
   ]
  },
  {
   "cell_type": "code",
   "execution_count": 4,
   "metadata": {},
   "outputs": [
    {
     "name": "stdout",
     "output_type": "stream",
     "text": [
      "Der Datentyp der Zahl 4 ist:\n",
      "<class 'int'>\n",
      "Der Datentyp der Zahl 2.5 ist:\n",
      "<class 'float'>\n",
      "Der Datentyp des Wortes 'Analyse' ist:\n",
      "<class 'str'>\n",
      "Der Datentyp des Wertes True ist:\n",
      "<class 'bool'>\n"
     ]
    }
   ],
   "source": [
    "print(\"Der Datentyp der Zahl 4 ist:\")\n",
    "print(type(4))\n",
    "\n",
    "print(\"Der Datentyp der Zahl 2.5 ist:\")\n",
    "print(type(2.5))\n",
    "\n",
    "print(\"Der Datentyp des Wortes 'Analyse' ist:\")\n",
    "print(type(\"Analyse\"))\n",
    "\n",
    "print(\"Der Datentyp des Wertes True ist:\")\n",
    "print(type(True))"
   ]
  },
  {
   "cell_type": "markdown",
   "metadata": {},
   "source": [
    "## Objektzuweisungen in Python\n",
    "\n",
    "Eine für die Analyse sehr erleichternde Option ist die Zuweisung von Zwischenergebnissen mittels des = Symbols. Auf diese Art können Ergebnisse während der Analyse gespeichert und für die weitere Analyse verwendet werden. Bei der Vergabe des Objektnamens bestehen nur wenige Restriktionen. So dürfen die Objektnamen lediglich nicht mit einer Zahl beginnen. Darüber hinaus existieren Empfehlungen für Standards bei der Benennung, welche jedoch nicht verpflichtend sind. Dennoch steigert eine Einhaltung dieser oder zumindest eine konsistente Art der Benennung die Übersichtlichkeit und das Verständnis des Codes."
   ]
  },
  {
   "cell_type": "code",
   "execution_count": 5,
   "metadata": {},
   "outputs": [
    {
     "name": "stdout",
     "output_type": "stream",
     "text": [
      "8\n"
     ]
    }
   ],
   "source": [
    "a = 2\n",
    "b = 3\n",
    "c = a**3\n",
    "print(c)"
   ]
  },
  {
   "cell_type": "markdown",
   "metadata": {},
   "source": [
    "## Fehlermeldungen in Python\n",
    "\n",
    "Wann immer es bei der Ausführung des Codes zu Fehlern kommt, wird die Berechung unterbrochen und eine Fehlermeldung wird erzeugt. Hierfür existieren verschiedene Fehlerarten, die es dem Nutzer möglichst einfach machen sollen, die Fehlerquelle zu identifizieren. Unterhalb sehen Sie ein Beispiel für einen NameError, der daraus resultiert, dass die Variable d noch nicht definiert und somit unbekannt ist. "
   ]
  },
  {
   "cell_type": "code",
   "execution_count": 6,
   "metadata": {},
   "outputs": [
    {
     "data": {
      "image/jpeg": "[encoded data removed]",
      "text/plain": [
       "<IPython.core.display.Image object>"
      ]
     },
     "execution_count": 6,
     "metadata": {},
     "output_type": "execute_result"
    }
   ],
   "source": [
    "from IPython.display import Image\n",
    "Image(filename='error_msg.jpg') "
   ]
  },
  {
   "cell_type": "markdown",
   "metadata": {},
   "source": [
    "## Datenstrukturierung \n",
    "\n",
    "Häufig besteht ein Datensatz aus mehreren Beobachtung verschiedener Variablen wie z.B. das Alter, das Gewicht und die Haarlänge mehrerer Personen. Wir werden im Verlauf des Kurses sehr praktische und fortgeschrittene Arten sehen, wie derartige Daten mittels Python temporär gespeichert und analysisert werden können. Als Grundlage betrachten wir zunächst die fundamentalen Konstrukte in Python meherer Datenpunkte zu sammeln:\n",
    "\n",
    "* Listen\n",
    "* Tuple\n",
    "* Dictionaries\n",
    "\n",
    "Um jeweils das gewünschte Objekt zu erzeugen, werden die Symbole:\n",
    "\n",
    "* Liste: []\n",
    "* Tuple: ()\n",
    "* Dictionary: {}\n",
    "\n",
    "verwendet. Listen und Tupel sind eine Ansammlung einzelner Daten bzw. Objekte. Der Hauptunterschied besteht in der Veränderlichkeit bei Listen und der Unveränderlichkeit bei Tupeln. Auf einzelne Werte aus Listen und Tupeln kann mit dem richtigen Index (Position in der Liste oder im Tuple) zugegriffen werden. Dictionaries sind ähnlich wie traditionelle Wörterbücher und bestehen aus Key-Value-Paaren. Der Zugriff auf einzelne Werte erfolgt über die Identifizierung mit dem passende Key. Für ein besseres Verständnis, betrachten wir in der unteren Zelle einige Beispiele."
   ]
  },
  {
   "cell_type": "code",
   "execution_count": 7,
   "metadata": {},
   "outputs": [],
   "source": [
    "# Wir definieren eine Liste\n",
    "meine_Liste = [1, 2, 3]\n",
    "\n",
    "# Wir definieren ein Tupel\n",
    "mein_Tupel = (1, 2, 3)\n",
    "\n",
    "# Wir definieren ein Dictionary\n",
    "mein_Dict = {}\n",
    "mein_Dict['Eins'] = 1\n",
    "mein_Dict['Zwei'] = 2\n",
    "mein_Dict['Drei'] = 3"
   ]
  },
  {
   "cell_type": "code",
   "execution_count": 8,
   "metadata": {},
   "outputs": [
    {
     "name": "stdout",
     "output_type": "stream",
     "text": [
      "1\n",
      "2\n",
      "3\n"
     ]
    }
   ],
   "source": [
    "# Um auf einzelne Werte aus Listen und Tupeln zuzugreifen, muss der Index verwendet werden\n",
    "# WICHTIG: in Python wird beim Zählen mit der 0 und nicht mit der 1 begonnen\n",
    "print(meine_Liste[0])\n",
    "\n",
    "print(mein_Tupel[1])\n",
    "\n",
    "print(mein_Dict['Drei'])"
   ]
  },
  {
   "cell_type": "code",
   "execution_count": 9,
   "metadata": {},
   "outputs": [
    {
     "name": "stdout",
     "output_type": "stream",
     "text": [
      "[1, 2]\n",
      "[2, 3]\n",
      "(2, 3)\n"
     ]
    }
   ],
   "source": [
    "# Um Teile von Listen und Tupeln ausgeben zu können, kann das sogenannte Slicing mittels : verwendet werden\n",
    "# gibt die Werte bis zum Index (aber nicht einschließlich) 2 aus\n",
    "print(meine_Liste[:2])\n",
    "\n",
    "# gibt die Werte 1 bis 3 des Tuples aus\n",
    "print(meine_Liste[1:3])\n",
    "\n",
    "# mit dem - Symbol wird vom Ende gezählt\n",
    "print(mein_Tupel[-2:])"
   ]
  },
  {
   "cell_type": "markdown",
   "metadata": {},
   "source": [
    "Es existieren viele weitere Möglichkeiten komplexere Teile einer Liste oder eines Tupels zu extrahieren. Aus Gründen der Übersichtlichkeit wollen wir auf diese zunächst verzichten bzw. bei möglichen Verwendungen darauf zurückgreifen. Vorerst abschließend sei noch zu erwähnen, dass Listen und Tupel nicht nur einzelne Zahlen, sondern ganz allgemein Objekte als einzelne Elemente aufnehmen können. So kann z.B. eine Liste aus mehreren Listen bestehen. Möchte man aus einer Liste oder einem Tupel nur die eindeutigen Werte und nicht die Duplikate, existiert hierfür das Set."
   ]
  },
  {
   "cell_type": "code",
   "execution_count": 10,
   "metadata": {},
   "outputs": [
    {
     "name": "stdout",
     "output_type": "stream",
     "text": [
      "[1, 2]\n",
      "{1, 2, 4, 5}\n"
     ]
    }
   ],
   "source": [
    "# Beispiel einer verschachtelten Liste\n",
    "nested_Liste = [[1, 2], [3, 4]]\n",
    "print(nested_Liste[0])\n",
    "\n",
    "Liste_mit_Duplikaten = [1, 2, 2, 4, 4, 5]\n",
    "print(set(Liste_mit_Duplikaten))"
   ]
  },
  {
   "cell_type": "markdown",
   "metadata": {},
   "source": [
    "## Eigene Funktionen definieren\n",
    "\n",
    "Oft müssen Analysen auf individuelle bzw. der Fragestellung spezifische Art durchgeführt werden. Insbesondere wenn bestimmte Teile der Analyse repetitiv durchgeführt werden, bietet es sich an eigene Funktionen zu definieren. Diese Möglichkeit besteht in Python wobei eine Funktion eine zusammenhänge Sequenz an zu interpretierenden Codebefehlen ist. In Python wird eine Funktion durch das def-Keywort initiiert, anschließend folgt ein selbst gewählter Name für die Funktion und eine Klammer in der Funktionsargumente definiert werden. Der Beginn der Codesequenz beginnt und endet mittels Einrückung. Ist eine Funktion definiert, wird vorerst noch nichts ausgewertet. Dies passiert erst mit dem Aufruf einer Funktion. Es genügt, wenn eine Funktion einmalig zu Beginn definiert wird. Betrachten wir am besten ein paar Beispiele."
   ]
  },
  {
   "cell_type": "code",
   "execution_count": 11,
   "metadata": {},
   "outputs": [],
   "source": [
    "# Eine Funktion ohne Argument\n",
    "def say_hello():\n",
    "    print(\"Hello!\")\n",
    "\n",
    "# Eine Funktion mit Argument\n",
    "def add_one(number):\n",
    "    return number + 1\n",
    "\n",
    "# Eine Funktion mit einer Liste als Argument, die sowohl das Maximum und den Index des Maximums ausgibt\n",
    "def find_maximum(a_list):\n",
    "    max_value = max(a_list)\n",
    "    max_index = a_list.index(max_value)\n",
    "    return max_value, max_index    "
   ]
  },
  {
   "cell_type": "code",
   "execution_count": 12,
   "metadata": {},
   "outputs": [
    {
     "name": "stdout",
     "output_type": "stream",
     "text": [
      "Hello!\n",
      "3\n",
      "(3, 2)\n"
     ]
    }
   ],
   "source": [
    "# Nun führen wir die Funktionen aus\n",
    "say_hello()\n",
    "\n",
    "print(add_one(2))\n",
    "\n",
    "print(find_maximum([1, 2, 3]))"
   ]
  },
  {
   "cell_type": "markdown",
   "metadata": {},
   "source": [
    "Welche Datentypen als Argument übergeben werden, lässt sich meistens durch den Aufruf help(Funktionsname) heraus finden. Grundsätzlich können alle Datentypen an Funktionen übergeben werden und auch von Funktionen ausgegben werden. Es gilt jedoch auch hier, kommt es zu einem Fehler während dem Ausführen der Funktion, wird kein Ergebnis, sondern eine Fehlermeldung übergeben. Fortgeschritten Aspekte zum Thema Funktionen sind die Verwendung von Type-Hinting sowie die Übergabe belieber Anzahl von Funktionsargumenten. "
   ]
  },
  {
   "cell_type": "markdown",
   "metadata": {},
   "source": [
    "## Module und Pakete \n",
    "\n",
    "Wenn es sich für ein Projekt anbietet, mehrere Funktionen zu definieren, können diese einmalig in einer separaten Datei definiert und für verschiedene Analysen importiert werden. Beispielsweise habe ich in meinem aktuellen Ordner eine Datei mit dem Namen *my_module.py* gespeichert, in der folgende Funktionen definiert sind:"
   ]
  },
  {
   "cell_type": "code",
   "execution_count": 13,
   "metadata": {},
   "outputs": [],
   "source": [
    "def print_python_is_fun():\n",
    "    print(\"Python is fun to learn!\")\n",
    "\n",
    "def add_two(number):\n",
    "    return number + 2"
   ]
  },
  {
   "cell_type": "markdown",
   "metadata": {},
   "source": [
    "Funktionen aus dieser Datei können nun auf folgende Art importiert werden:"
   ]
  },
  {
   "cell_type": "code",
   "execution_count": 14,
   "metadata": {},
   "outputs": [
    {
     "name": "stdout",
     "output_type": "stream",
     "text": [
      "Python is fun to learn!\n"
     ]
    },
    {
     "data": {
      "text/plain": [
       "4"
      ]
     },
     "execution_count": 14,
     "metadata": {},
     "output_type": "execute_result"
    }
   ],
   "source": [
    "# Entweder durch die from ... import ... syntax\n",
    "\n",
    "from my_module import print_python_is_fun, add_two\n",
    "\n",
    "print_python_is_fun()\n",
    "add_two(2)"
   ]
  },
  {
   "cell_type": "code",
   "execution_count": 15,
   "metadata": {},
   "outputs": [
    {
     "name": "stdout",
     "output_type": "stream",
     "text": [
      "Python is fun to learn!\n"
     ]
    },
    {
     "data": {
      "text/plain": [
       "4"
      ]
     },
     "execution_count": 15,
     "metadata": {},
     "output_type": "execute_result"
    }
   ],
   "source": [
    "# Es können auch \"blind\" alle Funktionen aus der Datei importiert werden\n",
    "# dies ist aber eher untypisch und wird selten gemacht\n",
    "from my_module import *\n",
    "\n",
    "print_python_is_fun()\n",
    "add_two(2)"
   ]
  },
  {
   "cell_type": "code",
   "execution_count": 16,
   "metadata": {},
   "outputs": [
    {
     "name": "stdout",
     "output_type": "stream",
     "text": [
      "Python is fun to learn!\n"
     ]
    },
    {
     "data": {
      "text/plain": [
       "4"
      ]
     },
     "execution_count": 16,
     "metadata": {},
     "output_type": "execute_result"
    }
   ],
   "source": [
    "# Meist werden in Python Module mit einem Alias importiert und durch den . können zugehörige Funktionen verwendet werden\n",
    "import my_module as mm\n",
    "\n",
    "mm.print_python_is_fun()\n",
    "mm.add_two(2)"
   ]
  },
  {
   "cell_type": "markdown",
   "metadata": {},
   "source": [
    "Die Datei wird Modul genannt und hat den Vorteil, dass dort Funktionen oder auch Objekte definiert werden können, die für meherere Analysen nach Import immer wieder verwendet werden können. Geht man noch einen Schritt weiter und bündelt meherere Module thematisch in einem Ordner, erhält man was in Python als Paket bezeichnet wird. Dies ist eine der größte Stärken von Python. Es existieren viele von Entwickler\\*innen und Pythonnutzer\\*innen geschriebene Pakete, welche zur freien Verfügung stehen und eine große Bandbreite moderner Methoden aus den Bereichen der Informatik, Mathematik, Statistik und Datenanalyse abdecken. Als Beispiel sehen Sie im Code unten wie jeweils eine Funktion aus einem Modul aus dem Paket *my_package* importiert wird."
   ]
  },
  {
   "cell_type": "code",
   "execution_count": 17,
   "metadata": {},
   "outputs": [
    {
     "name": "stdout",
     "output_type": "stream",
     "text": [
      "Python is fun to learn!\n",
      "Something else\n"
     ]
    }
   ],
   "source": [
    "from my_package.your_module import print_something_else\n",
    "from my_package.my_module import print_python_is_fun\n",
    "\n",
    "print_python_is_fun()\n",
    "print_something_else()"
   ]
  },
  {
   "cell_type": "markdown",
   "metadata": {},
   "source": [
    "## Logische Kontrollstrukturen und Schleifen\n",
    "\n",
    "Zum Ende dieser kurzen Einführung richten wir den Blick auf zwei für die praktische Arbeit wichtige Werkzeuge. Bei manchen Teilen der Analyse kann es sein, dass bestimmte Prozesse in Abhängigkeit von Bedingungen durchgeführt werden müssen. Um zu evaluieren unter welchem Bedinungnsstrang man sich befindet logischer Operatoren deren Output vom Typ Boolean ist. Die wichtigsten logischen Operatoren sind:\n",
    "\n",
    "| Operator   | Bedeutung |\n",
    "| :--------- | ------: |\n",
    "| ==  | ist gleich  |\n",
    "| !=  | ist ungleich  |\n",
    "| >  | größer als |\n",
    "| <  | kleiner als |\n",
    "| >=  | größer oder gleich |\n",
    "| <=  | kleiner oder gleich |\n",
    "\n",
    "Einzelne logische Abfragen können auch mittels *and* oder *or* verknüft und durch *not* negiert werden."
   ]
  },
  {
   "cell_type": "code",
   "execution_count": 18,
   "metadata": {},
   "outputs": [
    {
     "name": "stdout",
     "output_type": "stream",
     "text": [
      "True False\n",
      "False\n",
      "True\n"
     ]
    }
   ],
   "source": [
    "a = (1<2)\n",
    "b = (0 == 1)\n",
    "print(a, b)\n",
    "print(a and b)\n",
    "print(a or b)"
   ]
  },
  {
   "cell_type": "markdown",
   "metadata": {},
   "source": [
    "Die wichtigsten Kontrollstrukturen sind *if* bzw. *if-else* abfragen. Diese erlauben es Auswertungen je nach Bedingung durchzuführen. Zudem können sie miteinander kombiniert bzw. ineinandner verschachtelt werden."
   ]
  },
  {
   "cell_type": "code",
   "execution_count": 19,
   "metadata": {},
   "outputs": [
    {
     "name": "stdout",
     "output_type": "stream",
     "text": [
      "Yeah!\n"
     ]
    }
   ],
   "source": [
    "python_is_fun = True\n",
    "\n",
    "if python_is_fun is True:\n",
    "    print(\"Yeah!\")"
   ]
  },
  {
   "cell_type": "code",
   "execution_count": 20,
   "metadata": {},
   "outputs": [
    {
     "name": "stdout",
     "output_type": "stream",
     "text": [
      "Are you serious?\n"
     ]
    }
   ],
   "source": [
    "python_is_fun = False\n",
    "\n",
    "if python_is_fun is True:\n",
    "    print(\"Yeah!\")\n",
    "else:\n",
    "    print(\"Are you serious?\")"
   ]
  },
  {
   "cell_type": "code",
   "execution_count": 21,
   "metadata": {},
   "outputs": [
    {
     "name": "stdout",
     "output_type": "stream",
     "text": [
      "The answer for the ultimate question of life, the universe, and everything is:\n",
      "42\n"
     ]
    }
   ],
   "source": [
    "python_is_fun = 42\n",
    "\n",
    "if python_is_fun is True:\n",
    "    print(\"Yeah!\")\n",
    "elif python_is_fun is False:\n",
    "    print(\"Are you serious?\")\n",
    "else:\n",
    "    print(\"The answer for the ultimate question of life, the universe, and everything is:\")\n",
    "    print(python_is_fun)"
   ]
  },
  {
   "cell_type": "markdown",
   "metadata": {},
   "source": [
    "Wiederholte Auswertungen für Elemente eines Objekts können mittels des *for* loops ausgeführt werden.\n"
   ]
  },
  {
   "cell_type": "code",
   "execution_count": 22,
   "metadata": {},
   "outputs": [
    {
     "name": "stdout",
     "output_type": "stream",
     "text": [
      "Andrew\n",
      "Max\n",
      "Francis\n",
      "--------------------------------------------------\n",
      "0\n",
      "1\n",
      "2\n",
      "3\n",
      "4\n",
      "--------------------------------------------------\n",
      "Person number 1: Andrew\n",
      "Person number 2: Max\n",
      "Person number 3: Francis\n",
      "--------------------------------------------------\n",
      "Andrew is 21 years old.\n",
      "Max is 24 years old.\n",
      "Francis is 23 years old.\n",
      "--------------------------------------------------\n",
      "Person number 1: Andrew is 21 years old.\n",
      "Person number 2: Max is 24 years old.\n",
      "Person number 3: Francis is 23 years old.\n"
     ]
    }
   ],
   "source": [
    "# Eine einfache Schleife\n",
    "people = [\"Andrew\", \"Max\", \"Francis\"]\n",
    "for person in people:\n",
    "    print(person)\n",
    "print(\"-\"*50)\n",
    "\n",
    "# Eine Schleife mittels laufendem Index\n",
    "for i in range(5):\n",
    "    print(i)\n",
    "print(\"-\"*50)\n",
    "\n",
    "# Eine Schleife mittels Index und Objekt\n",
    "for i, person in enumerate(people):\n",
    "    print(f\"Person number {i+1}: {person}\")\n",
    "print(\"-\"*50)\n",
    "\n",
    "# Eine Schleife über zwei Objekte\n",
    "people = [\"Andrew\", \"Max\", \"Francis\"]\n",
    "ages = [21, 24, 23]\n",
    "for age, person in zip(ages, people):\n",
    "    print(f\"{person} is {age} years old.\")\n",
    "print(\"-\"*50)\n",
    "\n",
    "# Eine Schleife über zwei Objekte mit Index\n",
    "people = [\"Andrew\", \"Max\", \"Francis\"]\n",
    "ages = [21, 24, 23]\n",
    "for i, (age, person) in enumerate(zip(ages, people)):\n",
    "    print(f\"Person number {i + 1}: {person} is {age} years old.\")"
   ]
  },
  {
   "cell_type": "markdown",
   "metadata": {},
   "source": [
    "Eine weitere Möglichkeit der iterativen Auswertung besteht durch die *while* Schleife. Diese wird mit einer Bedingung kombiniert und solange ausgeführt, wie diese Bedingung *True* ist."
   ]
  },
  {
   "cell_type": "code",
   "execution_count": 23,
   "metadata": {},
   "outputs": [
    {
     "name": "stdout",
     "output_type": "stream",
     "text": [
      "5\n",
      "4\n",
      "3\n",
      "2\n",
      "1\n",
      "0\n"
     ]
    }
   ],
   "source": [
    "number = 5\n",
    "\n",
    "while number >= 0:\n",
    "    print(number)\n",
    "    number = number -1"
   ]
  },
  {
   "cell_type": "markdown",
   "metadata": {},
   "source": [
    "## Populäre Pakete in Python\n",
    "\n",
    "Wie bereits erwähnt, existieren für Python viele Pakete mit nützlichen Funktionen. Beispiele populärer Pakete sind:\n",
    "\n",
    "* Numpy: Scientific computing\n",
    "* Pandas: Datenmanipulation und Analyse\n",
    "* Scikit-learn: Machine Learning \n",
    "* Matplotlib: Datenvisualisierung\n",
    "\n",
    "Wir werden mit diesem Paketen im Kurs arbeiten und bei Bedarf näher darauf eingegen."
   ]
  }
 ],
 "metadata": {
  "kernelspec": {
   "display_name": ".venv",
   "language": "python",
   "name": "python3"
  },
  "language_info": {
   "codemirror_mode": {
    "name": "ipython",
    "version": 3
   },
   "file_extension": ".py",
   "mimetype": "text/x-python",
   "name": "python",
   "nbconvert_exporter": "python",
   "pygments_lexer": "ipython3",
   "version": "3.9.16"
  }
 },
 "nbformat": 4,
 "nbformat_minor": 2
}