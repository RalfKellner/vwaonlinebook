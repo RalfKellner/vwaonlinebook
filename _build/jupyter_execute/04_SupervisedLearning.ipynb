{
 "cells": [
  {
   "cell_type": "markdown",
   "metadata": {},
   "source": [
    "# Die Analyse abhängiger Variablen\n",
    "\n",
    "Häufig stehen bei Datenanylse einzelne Variablen wie z.B., der Umsatz, die Kaufentscheidung eines Kunden, die Rückzahlung eines Kredites, etc., im Vordergrund. Man nennt diese Variable abhängige Variable. Neben der rohen Analyse dieser Variable ist oft der Einfluss weiterer Variablen auf die abhängige Variable von Bedeutung. Beispielsweise ist es für ein Unternehmen von großem Interesse welche Einflussfaktoren für den Umsatz des Unternehmens maßgeblich sind. Diese Variablen werden unabhängige Variablen, Prediktoren oder aus dem Englischen auf Features genannt. Um den möglichen Einfluss der unabhängigen Variablen auf die abhängige Variable zu analysieren, wird sehr oft ein modelltechnischer Ansatz gewählt, bei dem versucht wird, die abhängige Variable möglichst gut durch ein Modell und die Wahl geeigneter unabhängiger Variablen vorhersagen und auf diese Weise erklären zu können. Auf abstrakter Ebene sehen die meisten Modelle für die abhängige Variable $y$ unter Verwendung der unabhängigen Variablen $x_1, x_2, ..., x_p$ wie folgt aus:\n",
    "\n",
    "$$\n",
    "y = f\\left(x_1, x_2, ..., x_p\\right) + \\epsilon\n",
    "$$\n",
    "\n",
    "Die Gleichung besagt, dass sich $y$ in einen funktionalen Zusammenhang $f$ zwischen den unabhängigen Variablen $x_1, x_2, ..., x_p$ und $y$ und in eine (zufällige) Abweichung unterteilt. Der funktionale Zusammenhang wird je nach Modell unterschiedlich definiert, stellt jedoch den deterministischen Anteil des Modells dar. Der zufällige Anteil der Beobachtung $\\epsilon$ stellt die zufällige Abweichung vom erklärbaren Anteil des Modells dar. Diese kann tatsächlich durcgh die reine Zufälligkeit bedingt sein oder teilweise auch durch eine inadäquate Wahl für $f$ resultieren. \n",
    "\n",
    "Möchte man mit Hilfe eines Modells den potentiellen Einfluss der unabhängigen Variablen auf die abhängige Variable untersuchen, bedarf es einer konkreten Spezifizierung für $f$. Im Anschluss wird ein Modell mit den Daten einer Stichprobe trainiert und evaluiert. Die Evaluation hat vor allem den Zweck, um zu überprüfen wie gut das Modell in der Lage ist, das Zustandekommen der Realisierungen von $y$ zu erklären. Letztendlich machen Rückschlüsse anhand eines Modells nur Sinn, wenn das Modell in der Lage ist, die Realität annähernd gut abzubilden. Kommt es bis zu diesem Punkt, können mit Hilfe des trainierten Modells die Fragen nach den Einflüssen der unabhängigen Variablen und der Wichtigkeit dieser im Detail analysisert werden. \n",
    "\n",
    "In den nächsten Kapiteln werden wir vergleichsweise einfachere Modelle ansehen, die für unterschiedlich skalierte abhängige Variablen verwendet werden können. Wir beginnen mit dem Fall, dass es sich bei $y$ um eine numerische Variable handelt. Anschließend betrachten wir Modelle für kategoriale Variablen, wobei wir zunächst mit Variablen und zwei Kategorien beginnen und im Anschluss den Fall für mehrere Kategorien betrachten. Nach diesen Kapitel sollten Gemeinsamkeiten bei der Strukturierung und Schätzung der Modelle sowie bei der Auswertung der geschätzten Modelle klar werden. "
   ]
  }
 ],
 "metadata": {
  "language_info": {
   "codemirror_mode": {
    "name": "ipython",
    "version": 3
   },
   "file_extension": ".py",
   "mimetype": "text/x-python",
   "name": "python",
   "nbconvert_exporter": "python",
   "pygments_lexer": "ipython3",
   "version": "3.9.16"
  }
 },
 "nbformat": 4,
 "nbformat_minor": 2
}